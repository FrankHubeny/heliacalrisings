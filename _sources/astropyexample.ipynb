{
 "cells": [
  {
   "cell_type": "markdown",
   "id": "baf154df",
   "metadata": {},
   "source": [
    "# How to use astropy for astronomical dating\n",
    "\n",
    "This is a markdown file used as a notebook, but it may not be in the final book."
   ]
  }
 ],
 "metadata": {
  "jupytext": {
   "formats": "md:myst",
   "text_representation": {
    "extension": ".md",
    "format_name": "myst",
    "format_version": 0.13,
    "jupytext_version": "1.11.5"
   }
  },
  "kernelspec": {
   "display_name": "Python 3",
   "language": "python",
   "name": "python3"
  },
  "source_map": [
   13
  ]
 },
 "nbformat": 4,
 "nbformat_minor": 5
}