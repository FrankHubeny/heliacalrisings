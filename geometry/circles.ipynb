{
 "cells": [
  {
   "cell_type": "markdown",
   "id": "a583e80e-c42b-4090-9975-8ce99964f19d",
   "metadata": {},
   "source": [
    "# A Geometric Look at Circles"
   ]
  },
  {
   "cell_type": "markdown",
   "id": "26286489-d37b-44df-bb2c-5bd0692aef9e",
   "metadata": {},
   "source": [
    "## One Dimension\n",
    "\n",
    "A line is a one-dimensional object.  If it loops back onto itself, the loop is still one-dimensional although we wouldn't see the loop unless\n",
    "we viewed it in a plane.  \n",
    "\n",
    "To put a coordinate system on the loop we assign a referemce point with the value 0 and a scale measuring the length of the loop in some unit such as miles or kilometers.  \n",
    "This scale gives us a value for the length of the loop.  All we know is that the one-dimensional object is a loop with a length.  With this information\n",
    "we could model the loop as the circumference of a circle until we get more information about it.  \n",
    "\n",
    ":::{admonition} There is a difference between model and reality\n",
    "The circle model for the loop identifies a unique center which gives us a radius as a single value, but each point of the\n",
    "loop may have a different distance from some point identified as the center of it.  This may seem obvious, but in each step of the way\n",
    "toward building an astronomical dating model we will be refining a model to fit the reality of events\n",
    "which happened in the past.\n",
    ":::\n",
    "\n",
    "Using the model we can calculate properties of\n",
    "the circle. For example, using this circle model of the loop we can find the radius of the circle by reasoning as follows.\n",
    "\n",
    "\n",
    ":::{prf:definition}\n",
    ":nonumber:\n",
    "$\\pi$ is the ratio of the circumference to the diameter of any circle.\n",
    ":::\n",
    "    \n",
    "$$\n",
    "    \\pi = \\frac{circumference}{diameter}\n",
    "$$\n",
    "\n",
    "From that definition the circumference of the circle equals the diameter of the circle times $\\pi$.  Since the diameter is twice the radius, the circumference equals twice the radius times $\\pi$.\n",
    "    \n",
    "We measured 37699 miles as the distance we traveled before arriving back at our starting point.  If we travelled in a circle, and let $r$ be the radius of that circle, then \n",
    "\n",
    "$$\n",
    "    2\\pi r = 37699\n",
    "$$  \n",
    "\n",
    "Therefore, $r = 5999.982199621362$ miles.\n",
    "\n",
    "That is more precise that our measurement, so let us reduce it to five positions and claim the radius of the circle we walked is 6000.0 miles.  \n",
    "\n",
    "Our travels were not likely in a straight line.\n",
    "There may have been hills and valleys and turns, but we only saved information about the distance we travelled before returning to our starting point.  Nonetheless, with this\n",
    "limited information we can model our route as a circle.\n",
    "With more information we could improve the model.\n",
    "\n",
    "Below is one way we could find the above values using AstroPy and NumPy."
   ]
  },
  {
   "cell_type": "markdown",
   "id": "58e308f0-8be8-4e94-9992-18bd05242615",
   "metadata": {},
   "source": [
    "```{prf:definition}\n",
    "$\\pi$ is the ratio of the circumference to the diameter of any circle.\n",
    "$$\n",
    "  \\pi = \\frac{circumference}{diameter}\n",
    "$$\n",
    "```"
   ]
  },
  {
   "cell_type": "code",
   "execution_count": 17,
   "id": "8b02bb82-095a-4eb9-8325-54582ee958a1",
   "metadata": {
    "editable": true,
    "slideshow": {
     "slide_type": ""
    },
    "tags": [
     "hide-input"
    ]
   },
   "outputs": [
    {
     "name": "stdout",
     "output_type": "stream",
     "text": [
      "The radius is 5999.982199621362 mi or 9656.035353067442 km.\n",
      "The radius is 6000.0 mi or 9656.0 km.\n"
     ]
    }
   ],
   "source": [
    "import numpy as np\n",
    "from astropy import units as u\n",
    "from astropy.units import imperial\n",
    "\n",
    "measured_distance = 37699 * imperial.mile\n",
    "\n",
    "radius = measured_distance / (2 * np.pi)\n",
    "print('The radius is {} or {}.'.format(radius, radius.to(u.km)))\n",
    "print('The radius is {:6.1f} or {:6.1f}.'.format(radius, radius.to(u.km)))"
   ]
  },
  {
   "cell_type": "markdown",
   "id": "9c62709c-4d8f-4b32-9c03-f9cdfb10356a",
   "metadata": {},
   "source": [
    "## Two Dimensions\n",
    "\n",
    "The circle we came up with allows us to view the path we walked from a two dimensional position.  "
   ]
  },
  {
   "cell_type": "code",
   "execution_count": 3,
   "id": "a0a6a6c8-cdfe-4277-ba0a-1cd6afa28f56",
   "metadata": {},
   "outputs": [
    {
     "data": {
      "text/plain": [
       "5999.982199621362"
      ]
     },
     "execution_count": 3,
     "metadata": {},
     "output_type": "execute_result"
    }
   ],
   "source": [
    "37699 / (2 * np.pi)"
   ]
  },
  {
   "cell_type": "code",
   "execution_count": null,
   "id": "1d1b3180-499e-41cb-8006-95cf406dc53d",
   "metadata": {},
   "outputs": [],
   "source": []
  }
 ],
 "metadata": {
  "kernelspec": {
   "display_name": "Python 3 (ipykernel)",
   "language": "python",
   "name": "python3"
  },
  "language_info": {
   "codemirror_mode": {
    "name": "ipython",
    "version": 3
   },
   "file_extension": ".py",
   "mimetype": "text/x-python",
   "name": "python",
   "nbconvert_exporter": "python",
   "pygments_lexer": "ipython3",
   "version": "3.12.1"
  }
 },
 "nbformat": 4,
 "nbformat_minor": 5
}
