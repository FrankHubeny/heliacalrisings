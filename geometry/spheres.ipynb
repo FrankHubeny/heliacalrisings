{
 "cells": [
  {
   "cell_type": "markdown",
   "id": "8a79be66-bb49-465b-97e3-1c5ba462b626",
   "metadata": {},
   "source": [
    "# A Geometric Look at Spheres"
   ]
  },
  {
   "cell_type": "markdown",
   "id": "e8e47ef7-2e6b-45fa-82d8-a7bbe3bfc7fc",
   "metadata": {},
   "source": [
    "If we take two one-dimensional objects that are not the same, we get a two-dimensional object.  In the case of a circle, we can look at two circles\n",
    "with the same radius and same starting point but in two different directions and come up with a sphere.  \n",
    "\n",
    "This sphere cannot be viewed in the two-dimensional space as we did the circle before, but it can be viewed in three dimensions.  In the same we that\n",
    "we looked at a circle we will example a sphere from the perspective of two dimensions and then three dimensions."
   ]
  },
  {
   "cell_type": "markdown",
   "id": "ff9aa4cc-345c-4507-9661-cac9e7e111ef",
   "metadata": {},
   "source": [
    "## One Dimension\n",
    "\n",
    "### Distance"
   ]
  },
  {
   "cell_type": "markdown",
   "id": "14ffdde8-ccab-4cf1-8bee-0b31cecf8cde",
   "metadata": {},
   "source": [
    "## Two Dimensions\n",
    "\n",
    "### Distance\n"
   ]
  },
  {
   "cell_type": "code",
   "execution_count": null,
   "id": "46a010a4-8a39-4d85-80b5-db3616272a5c",
   "metadata": {},
   "outputs": [],
   "source": []
  }
 ],
 "metadata": {
  "kernelspec": {
   "display_name": "Python 3 (ipykernel)",
   "language": "python",
   "name": "python3"
  },
  "language_info": {
   "codemirror_mode": {
    "name": "ipython",
    "version": 3
   },
   "file_extension": ".py",
   "mimetype": "text/x-python",
   "name": "python",
   "nbconvert_exporter": "python",
   "pygments_lexer": "ipython3",
   "version": "3.12.1"
  }
 },
 "nbformat": 4,
 "nbformat_minor": 5
}
