{
 "cells": [
  {
   "cell_type": "markdown",
   "id": "9c9b42f8-b445-40aa-a0a8-2e05363a0046",
   "metadata": {},
   "source": [
    "# World Chronologies"
   ]
  },
  {
   "cell_type": "code",
   "execution_count": null,
   "id": "4461e555-3958-4bfb-a36a-edea11af1882",
   "metadata": {},
   "outputs": [],
   "source": []
  }
 ],
 "metadata": {
  "kernelspec": {
   "display_name": "Python 3 (ipykernel)",
   "language": "python",
   "name": "python3"
  },
  "language_info": {
   "codemirror_mode": {
    "name": "ipython",
    "version": 3
   },
   "file_extension": ".py",
   "mimetype": "text/x-python",
   "name": "python",
   "nbconvert_exporter": "python",
   "pygments_lexer": "ipython3",
   "version": "3.12.1"
  }
 },
 "nbformat": 4,
 "nbformat_minor": 5
}
