{
 "cells": [
  {
   "cell_type": "markdown",
   "id": "120c0f4b-a4b3-4507-a41b-f38064f704c3",
   "metadata": {},
   "source": [
    "# Byzantine Chronologies"
   ]
  },
  {
   "cell_type": "code",
   "execution_count": null,
   "id": "e5f454e7-dbf4-4c2b-b912-9596223c0b36",
   "metadata": {},
   "outputs": [],
   "source": []
  }
 ],
 "metadata": {
  "kernelspec": {
   "display_name": "Python 3 (ipykernel)",
   "language": "python",
   "name": "python3"
  },
  "language_info": {
   "codemirror_mode": {
    "name": "ipython",
    "version": 3
   },
   "file_extension": ".py",
   "mimetype": "text/x-python",
   "name": "python",
   "nbconvert_exporter": "python",
   "pygments_lexer": "ipython3",
   "version": "3.12.1"
  }
 },
 "nbformat": 4,
 "nbformat_minor": 5
}
