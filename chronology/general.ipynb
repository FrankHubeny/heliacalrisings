{
 "cells": [
  {
   "cell_type": "markdown",
   "id": "88146ecd-5b0b-421b-a3a8-dfac298946a9",
   "metadata": {},
   "source": [
    "# General Considerations About Chronologies"
   ]
  },
  {
   "cell_type": "code",
   "execution_count": 1,
   "id": "7f1bdb65-1c7a-4bfd-966c-5ac2348eaabf",
   "metadata": {},
   "outputs": [
    {
     "data": {
      "text/html": [
       "<div><i>Table length=4</i>\n",
       "<table id=\"table2407789244352\" class=\"table-striped table-bordered table-condensed\">\n",
       "<thead><tr><th>Event</th><th>Source</th><th>Level</th><th>Area</th><th>Ussher Chronology</th><th>Petrovich Smith Chronology</th></tr></thead>\n",
       "<thead><tr><th>string</th><th>string</th><th>integer</th><th>string</th><th>string</th><th>string</th></tr></thead>\n",
       "<thead><tr><th>str14</th><th>str13</th><th>int8</th><th>str12</th><th>str4</th><th>str4</th></tr></thead>\n",
       "<tr><td>Creation</td><td>Genesis 1</td><td>0</td><td>All</td><td>4004</td><td>5554</td></tr>\n",
       "<tr><td>Flood</td><td>Genesis 6-9</td><td>0</td><td>All</td><td>2348</td><td>3298</td></tr>\n",
       "<tr><td>Birth of Abram</td><td>Genesis 11:26</td><td>2</td><td>Israel</td><td>1996</td><td>2166</td></tr>\n",
       "<tr><td>Exodus</td><td>Exodus</td><td>0</td><td>Israel-Egypt</td><td>1491</td><td>1446</td></tr>\n",
       "</table></div>"
      ],
      "text/plain": [
       "<Table length=4>\n",
       "            Event              ... Petrovich Smith Chronology\n",
       "            string             ...           string          \n",
       "            str14              ...            str4           \n",
       "------------------------------ ... --------------------------\n",
       "                      Creation ...                       5554\n",
       "                         Flood ...                       3298\n",
       "                Birth of Abram ...                       2166\n",
       "                        Exodus ...                       1446"
      ]
     },
     "execution_count": 1,
     "metadata": {},
     "output_type": "execute_result"
    }
   ],
   "source": [
    "\n",
    "from astropy.table import Table\n",
    "\n",
    "# Define the data as an ecsv file.\n",
    "namedchronologies = '''# %ECSV 0.9\n",
    "# ---\n",
    "# datatype:\n",
    "# - \n",
    "#   name: Event\n",
    "#   unit: string \n",
    "#   datatype: string\n",
    "#   format: '%030s'\n",
    "#   description: This is the name of the event\n",
    "# - \n",
    "#   name: Source\n",
    "#   unit: string\n",
    "#   datatype: string\n",
    "#   format: '%100s'\n",
    "#   description: Text describing the event\n",
    "# -\n",
    "#   name: Level\n",
    "#   unit: integer\n",
    "#   datatype: int8\n",
    "#   description: This is general level of the event with 0 being a synchronization, 1 being an astronomically dated event and 2 being a foundational event\n",
    "# - \n",
    "#   name: Area\n",
    "#   unit: string\n",
    "#   datatype: string\n",
    "#   format: '%030s'\n",
    "#   description: This is the location of the event - Egypt, Israel, Assyria, Babylonia or a combination for synchronizations or All\n",
    "# -\n",
    "#   name: \"Ussher Chronology\"\n",
    "#   unit: string\n",
    "#   datatype: string\n",
    "#   description: These are the dates that James Ussher assigned to the events\n",
    "# -\n",
    "#   name: \"Petrovich Smith Chronology\"\n",
    "#   unit: string\n",
    "#   datatype: string\n",
    "#   description: These are the dates that Henry B. Smith, Jr and Douglas Petrovich assigned to the events\n",
    "# meta:\n",
    "#   name: namedchronologies.ecsv\n",
    "#   Description: A list of events with levels of importance for the Ancient Near East and various named chronologies of dates for those events\n",
    "#   Source: Various, specified in the individual column descriptions\n",
    "Event Source Level Area \"Ussher Chronology\" \"Petrovich Smith Chronology\"\n",
    "Creation \"Genesis 1\" 0 All 4004 5554\n",
    "Flood \"Genesis 6-9\" 0 All 2348 3298\n",
    "\"Birth of Abram\" \"Genesis 11:26\" 2 Israel 1996 2166\n",
    "Exodus Exodus 0 Israel-Egypt 1491 1446\n",
    "'''\n",
    "\n",
    "# Create an AstroPy Table from the data.\n",
    "chronologies = Table.read(namedchronologies, format='ascii.ecsv')\n",
    "#%store names\n",
    "\n",
    "# Write the names Table as an escv file to be used in other notebooks.\n",
    "chronologies.write('../data/namedchronologies.ecsv', overwrite=True)\n",
    "\n",
    "# Read the file to display its contents in this notebook.\n",
    "# This step is not necessary, but it tests that the file was created and read.\n",
    "# This is the method I will use to read this data into other notebooks.\n",
    "displaychronologies = Table.read('../data/namedchronologies.ecsv')\n",
    "displaychronologies = chronologies\n",
    "\n",
    "# Display the contents\n",
    "displaychronologies"
   ]
  },
  {
   "cell_type": "code",
   "execution_count": 2,
   "id": "3fe99636-1c0e-4105-b458-f0d7c9775cea",
   "metadata": {},
   "outputs": [
    {
     "data": {
      "text/html": [
       "<i>Row index=0</i>\n",
       "<table id=\"table2407787046784\">\n",
       "<thead><tr><th>Event</th><th>Petrovich Smith Chronology</th></tr></thead>\n",
       "<thead><tr><th>string</th><th>string</th></tr></thead>\n",
       "<thead><tr><th>str14</th><th>str13</th></tr></thead>\n",
       "<tr><td>Creation</td><td>5554 BC</td></tr>\n",
       "</table>"
      ],
      "text/plain": [
       "<Row index=0>\n",
       "            Event              Petrovich Smith Chronology\n",
       "            string                       string          \n",
       "            str14                        str13           \n",
       "------------------------------ --------------------------\n",
       "                      Creation                    5554 BC"
      ]
     },
     "execution_count": 2,
     "metadata": {},
     "output_type": "execute_result"
    }
   ],
   "source": [
    "\n",
    "from astropy.table import QTable\n",
    "import astropy.units as u\n",
    "from astropy.time import Time\n",
    "\n",
    "# Define the data as an ecsv file.\n",
    "qnamedchronologies = '''# %ECSV 0.9\n",
    "# ---\n",
    "# datatype:\n",
    "# - \n",
    "#   name: Event\n",
    "#   unit: string \n",
    "#   datatype: string\n",
    "#   format: '%030s'\n",
    "#   description: This is the name of the event\n",
    "# - \n",
    "#   name: Source\n",
    "#   unit: string\n",
    "#   datatype: string\n",
    "#   format: '%100s'\n",
    "#   description: Text describing the event\n",
    "# -\n",
    "#   name: Level\n",
    "#   unit: integer\n",
    "#   datatype: int8\n",
    "#   description: This is general level of the event with 0 being a synchronization, 1 being an astronomically dated event and 2 being a foundational event\n",
    "# - \n",
    "#   name: Area\n",
    "#   unit: string\n",
    "#   datatype: string\n",
    "#   format: '%030s'\n",
    "#   description: This is the location of the event - Egypt, Israel, Assyria, Babylonia or a combination for synchronizations or All\n",
    "# -\n",
    "#   name: \"Ussher Chronology\"\n",
    "#   unit: string\n",
    "#   datatype: string\n",
    "#   description: These are the dates that James Ussher assigned to the events\n",
    "# -\n",
    "#   name: \"Petrovich Smith Chronology\"\n",
    "#   unit: string\n",
    "#   datatype: string\n",
    "#   description: These are the dates that Henry B. Smith, Jr and Douglas Petrovich assigned to the events\n",
    "# meta:\n",
    "#   name: namedchronologies.ecsv\n",
    "#   Description: A list of events with levels of importance for the Ancient Near East and various named chronologies of dates for those events\n",
    "#   Source: Various, specified in the individual column descriptions\n",
    "Event Source Level Area \"Ussher Chronology\" \"Petrovich Smith Chronology\"\n",
    "Creation \"Genesis 1\" 0 All \"4004-10-23 BC\" \"5554 BC\"\n",
    "Flood \"Genesis 6-9\" 0 All \"2348 BC\" \"3298 BC\"\n",
    "\"Birth of Abram\" \"Genesis 11:26\" 2 Israel \"1996 BC\" \"2166 BC\"\n",
    "Exodus Exodus 0 Israel-Egypt \"1491-04-01 BC\" \"1446-04-01 BC\"\n",
    "'''\n",
    "\n",
    "# Create an AstroPy Table from the data.\n",
    "qchronologies = Table.read(qnamedchronologies, format='ascii.ecsv')\n",
    "#%store names\n",
    "\n",
    "# Write the names Table as an escv file to be used in other notebooks.\n",
    "qchronologies.write('../data/qnamedchronologies.ecsv', overwrite=True)\n",
    "\n",
    "# Read the file to display its contents in this notebook.\n",
    "# This step is not necessary, but it tests that the file was created and read.\n",
    "# This is the method I will use to read this data into other notebooks.\n",
    "qdisplaychronologies = Table.read('../data/qnamedchronologies.ecsv')\n",
    "qdisplaychronologies = qchronologies\n",
    "\n",
    "# Display the contents\n",
    "qdisplaychronologies[0]['Event', 'Petrovich Smith Chronology']"
   ]
  },
  {
   "cell_type": "code",
   "execution_count": 3,
   "id": "40b2671d-0271-4b17-a369-19dbc80c250f",
   "metadata": {},
   "outputs": [
    {
     "data": {
      "text/plain": [
       "array(['-5553', '-3297', '-2165', '-1445'], dtype='datetime64[Y]')"
      ]
     },
     "execution_count": 3,
     "metadata": {},
     "output_type": "execute_result"
    }
   ],
   "source": [
    "import numpy as np\n",
    "\n",
    "dates = []\n",
    "for i in qdisplaychronologies['Petrovich Smith Chronology']:\n",
    "    if i[-3:] == ' BC':\n",
    "        time = np.datetime64('-'+i[0:-3]) + np.timedelta64(365, 'D')\n",
    "    elif i[-4:] == ' BCE':\n",
    "        time = np.datetime64('-'+i[0:-4]) + np.timedelta64(365, 'D')\n",
    "    else:\n",
    "        time = np.datetime64(i[0:-3])\n",
    "    dates.append(time)\n",
    "np.array(dates, dtype='datetime64[Y]')"
   ]
  },
  {
   "cell_type": "code",
   "execution_count": 4,
   "id": "afd58f63-b153-4eb7-a9dc-08efb3aae2f9",
   "metadata": {},
   "outputs": [
    {
     "name": "stdout",
     "output_type": "stream",
     "text": [
      "-5554\n"
     ]
    }
   ],
   "source": [
    "print(np.datetime64('-5554').astype('datetime64[Y]'))"
   ]
  },
  {
   "cell_type": "code",
   "execution_count": 5,
   "id": "0d839014-51a2-4ef2-bfc1-8583b0cfe420",
   "metadata": {},
   "outputs": [
    {
     "name": "stdout",
     "output_type": "stream",
     "text": [
      "2014-12-31 18:00:02.000\n"
     ]
    }
   ],
   "source": [
    "import astropy.units as u\n",
    "t = Time(\"2020-01-01\") - 5 * u.year\n",
    "print(t)"
   ]
  },
  {
   "cell_type": "code",
   "execution_count": 6,
   "id": "0329c286-22d8-491b-b881-c62dd703c22d",
   "metadata": {},
   "outputs": [
    {
     "data": {
      "text/plain": [
       "{'jd': astropy.time.formats.TimeJD,\n",
       " 'mjd': astropy.time.formats.TimeMJD,\n",
       " 'decimalyear': astropy.time.formats.TimeDecimalYear,\n",
       " 'unix': astropy.time.formats.TimeUnix,\n",
       " 'unix_tai': astropy.time.formats.TimeUnixTai,\n",
       " 'cxcsec': astropy.time.formats.TimeCxcSec,\n",
       " 'gps': astropy.time.formats.TimeGPS,\n",
       " 'plot_date': astropy.time.formats.TimePlotDate,\n",
       " 'stardate': astropy.time.formats.TimeStardate,\n",
       " 'datetime': astropy.time.formats.TimeDatetime,\n",
       " 'ymdhms': astropy.time.formats.TimeYMDHMS,\n",
       " 'iso': astropy.time.formats.TimeISO,\n",
       " 'isot': astropy.time.formats.TimeISOT,\n",
       " 'yday': astropy.time.formats.TimeYearDayTime,\n",
       " 'datetime64': astropy.time.formats.TimeDatetime64,\n",
       " 'fits': astropy.time.formats.TimeFITS,\n",
       " 'byear': astropy.time.formats.TimeBesselianEpoch,\n",
       " 'jyear': astropy.time.formats.TimeJulianEpoch,\n",
       " 'byear_str': astropy.time.formats.TimeBesselianEpochString,\n",
       " 'jyear_str': astropy.time.formats.TimeJulianEpochString}"
      ]
     },
     "execution_count": 6,
     "metadata": {},
     "output_type": "execute_result"
    }
   ],
   "source": [
    "# https://docs.astropy.org/en/stable/time/\n",
    "from astropy.time import Time, TimeDelta\n",
    "Time.FORMATS"
   ]
  },
  {
   "cell_type": "code",
   "execution_count": 7,
   "id": "02d6c751-3c44-41bd-bd7f-8950248dc588",
   "metadata": {},
   "outputs": [
    {
     "name": "stdout",
     "output_type": "stream",
     "text": [
      "utc fits            -02000-01-02T00:00:00.000\n",
      "utc jd 990575.5\n",
      "utc mjd -1409425.0\n",
      "utc decimalyear -1999.9972677595629\n",
      "utc unix -125281036800.0\n",
      "utc unix_tai -125281036800.0\n"
     ]
    },
    {
     "name": "stderr",
     "output_type": "stream",
     "text": [
      "E:\\Jupyter\\venv\\Lib\\site-packages\\erfa\\core.py:133: ErfaWarning: ERFA function \"dtf2d\" yielded 1 of \"dubious year (Note 6)\"\n",
      "  warn(f'ERFA function \"{func_name}\" yielded {wmsg}', ErfaWarning)\n",
      "E:\\Jupyter\\venv\\Lib\\site-packages\\erfa\\core.py:133: ErfaWarning: ERFA function \"d2dtf\" yielded 1 of \"dubious year (Note 5)\"\n",
      "  warn(f'ERFA function \"{func_name}\" yielded {wmsg}', ErfaWarning)\n",
      "E:\\Jupyter\\venv\\Lib\\site-packages\\erfa\\core.py:133: ErfaWarning: ERFA function \"utctai\" yielded 1 of \"dubious year (Note 3)\"\n",
      "  warn(f'ERFA function \"{func_name}\" yielded {wmsg}', ErfaWarning)\n"
     ]
    }
   ],
   "source": [
    "t = Time('-02000-01-02T00:00:00.123', format='fits')\n",
    "t = Time('-02000-01-02', format='fits')\n",
    "print('{} {:15s} {}'.format(t.scale, t.format, t.value))\n",
    "t.format = 'jd'\n",
    "print(t.scale, t.format, t.value)\n",
    "t.format = 'mjd'\n",
    "print(t.scale, t.format, t.value)\n",
    "t.format = 'decimalyear'\n",
    "print(t.scale, t.format, t.value)\n",
    "t.format = 'unix'\n",
    "print(t.scale, t.format, t.value)\n",
    "t.format = 'unix_tai'\n",
    "print(t.scale, t.format, t.value)"
   ]
  },
  {
   "cell_type": "code",
   "execution_count": 8,
   "id": "dcbe04ab-aeb7-4002-8e67-fb208df2477c",
   "metadata": {},
   "outputs": [
    {
     "name": "stdout",
     "output_type": "stream",
     "text": [
      "jd\n",
      "mjd\n",
      "decimalyear\n",
      "unix\n",
      "unix_tai\n",
      "cxcsec\n",
      "gps\n",
      "plot_date\n",
      "stardate\n",
      "datetime\n",
      "ymdhms\n",
      "iso\n",
      "isot\n",
      "yday\n",
      "datetime64\n",
      "fits\n",
      "byear\n",
      "jyear\n",
      "byear_str\n",
      "jyear_str\n"
     ]
    }
   ],
   "source": [
    "for key in Time.FORMATS:\n",
    "    print(key)"
   ]
  },
  {
   "cell_type": "code",
   "execution_count": 9,
   "id": "4d9939df-36c0-49a3-9130-056b2a739ce0",
   "metadata": {},
   "outputs": [
    {
     "name": "stdout",
     "output_type": "stream",
     "text": [
      "utc fits            -04700-01-01T00:00:00.123\n",
      "utc decimalyear -4699.9999999961\n",
      "utc isot -4700-01-01T00:00:00.123\n",
      "utc iso -4700-01-01 00:00:00.123\n"
     ]
    }
   ],
   "source": [
    "t = Time('-02000-01-02T00:00:00.123', format='fits')\n",
    "t = Time('-04700-01-01T00:00:00.123', format='fits')\n",
    "print('{} {:15s} {}'.format(t.scale, t.format, t.value))\n",
    "t.format = 'decimalyear'\n",
    "print(t.scale, t.format, t.value)\n",
    "t.format = 'isot'\n",
    "print(t.scale, t.format, t.value)\n",
    "t.format = 'iso'\n",
    "print(t.scale, t.format, t.value)\n"
   ]
  },
  {
   "cell_type": "code",
   "execution_count": 10,
   "id": "0fe581c8-f77e-4a6b-96e0-46acfe7a2412",
   "metadata": {},
   "outputs": [
    {
     "data": {
      "text/plain": [
       "'-04700-01-01T00:00:00.123'"
      ]
     },
     "execution_count": 10,
     "metadata": {},
     "output_type": "execute_result"
    }
   ],
   "source": [
    "\n",
    "t = Time('-04700-01-01T00:00:00.123', format='fits')\n",
    "#print('{} {:15s} {}'.format(t.scale, t.format, t.value))\n",
    "t.value\n"
   ]
  },
  {
   "cell_type": "code",
   "execution_count": 11,
   "id": "e9514716-4239-4e8f-83b4-808d74f6ed63",
   "metadata": {},
   "outputs": [
    {
     "name": "stdout",
     "output_type": "stream",
     "text": [
      "tt jd              * 516816.0\n",
      "tt mjd             * -1883184.5\n",
      "tt decimalyear     * -3297.1054794520546\n",
      "tt unix            * -166213857632.184\n",
      "tt unix_tai        * -166213857632.184\n",
      "tt cxcsec          * -167097470400.0\n",
      "tt gps             * -166529822451.184\n",
      "tt plot_date       * -1923771.5003725\n",
      "tt stardate        * -5156440.079828656\n",
      "tt ymdhms          * (-3298, 11, 23, 12, 0, 0.0)\n",
      "tt iso             * -3298-11-23 12:00:00.000\n",
      "tt isot            * -3298-11-23T12:00:00.000\n",
      "tt datetime64      * 1963-11-18T08:11:03.385964544\n",
      "tt fits            * -03298-11-23T12:00:00.000\n",
      "tt byear           * -3297.1111767897537\n",
      "tt jyear           * -3296.999315537303\n",
      "tt byear_str       * B-3297.111\n",
      "tt jyear_str       * J-3296.999\n"
     ]
    }
   ],
   "source": [
    "import warnings\n",
    "import astropy.units as u\n",
    "from astropy.time import Time, TimeDelta\n",
    "\n",
    "yearsago = 5322 * u.yr\n",
    "\n",
    "t = Time('2025-01-01', scale='tt')\n",
    "d = TimeDelta(yearsago)\n",
    "with warnings.catch_warnings(action=\"ignore\"):\n",
    "    for key in Time.FORMATS:\n",
    "        if key not in ['datetime', 'yday']:\n",
    "            f = t - d\n",
    "            f.format = key\n",
    "            print('{} {:15s} {} {}'.format(f.scale, f.format, f.out_subfmt, f.value))"
   ]
  },
  {
   "cell_type": "code",
   "execution_count": 12,
   "id": "ea9b9cab-bb8d-405c-81c4-fc38ad0c4e85",
   "metadata": {},
   "outputs": [
    {
     "name": "stdout",
     "output_type": "stream",
     "text": [
      "utc jd              * 2450448.7500810185\n",
      "utc mjd             * 50448.250081018516\n",
      "utc decimalyear     * 1996.9979510410342\n",
      "utc unix            * 852012007.0\n",
      "utc unix_tai        * 852012037.0\n",
      "utc cxcsec          * -31600730.816\n",
      "utc gps             * 536047218.0\n",
      "utc plot_date       * 9861.25008101852\n",
      "utc stardate        * -295218.68434682407\n",
      "utc ymdhms          * (1996, 12, 31, 6, 0, 7.0)\n",
      "utc iso             * 1996-12-31 06:00:07.000\n",
      "utc isot            * 1996-12-31T06:00:07.000\n",
      "utc datetime64      * 1996-12-31T06:00:07.000000000\n",
      "utc fits            * 1996-12-31T06:00:07.000\n",
      "utc byear           * 1996.9998447037647\n",
      "utc jyear           * 1996.9986312964231\n",
      "utc byear_str       * B1997.000\n",
      "utc jyear_str       * J1996.999\n"
     ]
    }
   ],
   "source": [
    "import warnings\n",
    "\n",
    "yearsago = 23\n",
    "\n",
    "t = Time('2020-01-01', scale='utc')\n",
    "f = t - (yearsago * u.yr)\n",
    "with warnings.catch_warnings(action=\"ignore\"):\n",
    "    for key in Time.FORMATS:\n",
    "        if key not in ['datetime', 'yday']:\n",
    "            f.format = key\n",
    "            print('{} {:15s} {} {}'.format(f.scale, f.format, f.out_subfmt, f.value))"
   ]
  },
  {
   "cell_type": "code",
   "execution_count": 13,
   "id": "26a02fee-ac59-4c3f-8009-828c8df78a4c",
   "metadata": {},
   "outputs": [
    {
     "name": "stdout",
     "output_type": "stream",
     "text": [
      "ut1 iso             2025-01-01 00:00:00.000\n",
      "ut1 iso             -3298-11-23 12:00:00.000\n"
     ]
    }
   ],
   "source": [
    "import warnings\n",
    "import astropy.units as u\n",
    "from astropy.time import Time, TimeDelta\n",
    "\n",
    "yearsago = 2025 + 3298 - 1\n",
    "\n",
    "t = Time('2025-01-01', scale='ut1', format='iso')\n",
    "print('{} {:15s} {}'.format(t.scale, t.format, t.value))\n",
    "f = t - (yearsago * u.yr)\n",
    "print('{} {:15s} {}'.format(f.scale, f.format, f.value))"
   ]
  },
  {
   "cell_type": "code",
   "execution_count": 14,
   "id": "40468fe1-7b7a-4dd8-ae24-efe291783978",
   "metadata": {},
   "outputs": [
    {
     "name": "stdout",
     "output_type": "stream",
     "text": [
      "tai   iso             3298 BC\n",
      "tcb   iso             3298 BC\n",
      "tcg   iso             3298 BC\n",
      "tdb   iso             3298 BC\n",
      "tt    iso             3298 BC\n",
      "ut1   iso             3298 BC\n",
      "utc   iso             3298 BC\n",
      "local iso             3298 BC\n"
     ]
    },
    {
     "name": "stderr",
     "output_type": "stream",
     "text": [
      "E:\\Jupyter\\venv\\Lib\\site-packages\\erfa\\core.py:133: ErfaWarning: ERFA function \"taiutc\" yielded 1 of \"dubious year (Note 4)\"\n",
      "  warn(f'ERFA function \"{func_name}\" yielded {wmsg}', ErfaWarning)\n",
      "E:\\Jupyter\\venv\\Lib\\site-packages\\erfa\\core.py:133: ErfaWarning: ERFA function \"d2dtf\" yielded 1 of \"dubious year (Note 5)\"\n",
      "  warn(f'ERFA function \"{func_name}\" yielded {wmsg}', ErfaWarning)\n"
     ]
    }
   ],
   "source": [
    "import warnings\n",
    "import astropy.units as u\n",
    "from astropy.time import Time, TimeDelta\n",
    "\n",
    "yearsago = (2025 + 3298 - 1) * u.yr\n",
    "#yearsago = (2025 - 2297 - 0) * u.yr\n",
    "#yearsago = 0 * u.yr\n",
    "date = '2025-01-01'\n",
    "\n",
    "for key in Time.SCALES:\n",
    "    t = Time(date, scale=key, format='iso') - yearsago\n",
    "    if t.value[0] == '-':\n",
    "        print('{:5s} {:15s} {:6s}'.format(t.scale, t.format, t.value[1:5]+' BC'))\n",
    "    else:\n",
    "        print('{:5s} {:15s} {:6s}'.format(t.scale, t.format, t.value[0:4]+' AD'))"
   ]
  },
  {
   "cell_type": "code",
   "execution_count": 15,
   "id": "cc80a4ff-f23f-4e22-b8c2-1b81907a0d5d",
   "metadata": {},
   "outputs": [
    {
     "name": "stdout",
     "output_type": "stream",
     "text": [
      "-1000000\n"
     ]
    }
   ],
   "source": [
    "import numpy as np\n",
    "\n",
    "d = np.datetime64('-1000000')\n",
    "print(d)\n"
   ]
  },
  {
   "cell_type": "code",
   "execution_count": 16,
   "id": "45589193-63ee-42ae-b25d-d43ab203388c",
   "metadata": {},
   "outputs": [
    {
     "data": {
      "text/latex": [
       "$10 \\; \\mathrm{bakers\\_fortnight}$"
      ],
      "text/plain": [
       "<Quantity 10. bakers_fortnight>"
      ]
     },
     "execution_count": 16,
     "metadata": {},
     "output_type": "execute_result"
    }
   ],
   "source": [
    "from astropy import units as u\n",
    "\n",
    "bakers_fortnight = u.def_unit('bakers_fortnight', 13 * u.day)\n",
    "10. * bakers_fortnight  "
   ]
  },
  {
   "cell_type": "code",
   "execution_count": null,
   "id": "8bb4f996-a099-410a-9876-b1934856ed05",
   "metadata": {},
   "outputs": [],
   "source": []
  }
 ],
 "metadata": {
  "kernelspec": {
   "display_name": "Python 3 (ipykernel)",
   "language": "python",
   "name": "python3"
  },
  "language_info": {
   "codemirror_mode": {
    "name": "ipython",
    "version": 3
   },
   "file_extension": ".py",
   "mimetype": "text/x-python",
   "name": "python",
   "nbconvert_exporter": "python",
   "pygments_lexer": "ipython3",
   "version": "3.12.1"
  }
 },
 "nbformat": 4,
 "nbformat_minor": 5
}
