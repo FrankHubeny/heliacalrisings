{
 "cells": [
  {
   "cell_type": "markdown",
   "id": "5a2e0752-a344-472a-a8b0-6cfcf944c586",
   "metadata": {},
   "source": [
    "# Babylonian Chronologies"
   ]
  },
  {
   "cell_type": "code",
   "execution_count": null,
   "id": "e4c79343-2044-4824-af26-72a5857891cc",
   "metadata": {},
   "outputs": [],
   "source": []
  }
 ],
 "metadata": {
  "kernelspec": {
   "display_name": "Python 3 (ipykernel)",
   "language": "python",
   "name": "python3"
  },
  "language_info": {
   "codemirror_mode": {
    "name": "ipython",
    "version": 3
   },
   "file_extension": ".py",
   "mimetype": "text/x-python",
   "name": "python",
   "nbconvert_exporter": "python",
   "pygments_lexer": "ipython3",
   "version": "3.12.1"
  }
 },
 "nbformat": 4,
 "nbformat_minor": 5
}
