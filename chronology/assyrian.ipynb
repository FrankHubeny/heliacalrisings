{
 "cells": [
  {
   "cell_type": "markdown",
   "id": "fedb3a24-0f1e-488c-ae52-1ae2ad41b16e",
   "metadata": {},
   "source": [
    "# Assyrian Chronologies"
   ]
  },
  {
   "cell_type": "code",
   "execution_count": null,
   "id": "e76bb25c-8360-4967-a65e-8641ff01e646",
   "metadata": {},
   "outputs": [],
   "source": []
  }
 ],
 "metadata": {
  "kernelspec": {
   "display_name": "Python 3 (ipykernel)",
   "language": "python",
   "name": "python3"
  },
  "language_info": {
   "codemirror_mode": {
    "name": "ipython",
    "version": 3
   },
   "file_extension": ".py",
   "mimetype": "text/x-python",
   "name": "python",
   "nbconvert_exporter": "python",
   "pygments_lexer": "ipython3",
   "version": "3.12.1"
  }
 },
 "nbformat": 4,
 "nbformat_minor": 5
}
