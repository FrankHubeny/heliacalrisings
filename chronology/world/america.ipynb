{
 "cells": [
  {
   "cell_type": "markdown",
   "id": "696dadd7-f143-4c1d-ba67-08e90f3f753e",
   "metadata": {},
   "source": [
    "# America"
   ]
  },
  {
   "cell_type": "code",
   "execution_count": null,
   "id": "0372441c-ada3-4b14-b03e-d5507170e3c4",
   "metadata": {},
   "outputs": [],
   "source": []
  }
 ],
 "metadata": {
  "kernelspec": {
   "display_name": "Python 3 (ipykernel)",
   "language": "python",
   "name": "python3"
  },
  "language_info": {
   "codemirror_mode": {
    "name": "ipython",
    "version": 3
   },
   "file_extension": ".py",
   "mimetype": "text/x-python",
   "name": "python",
   "nbconvert_exporter": "python",
   "pygments_lexer": "ipython3",
   "version": "3.12.1"
  }
 },
 "nbformat": 4,
 "nbformat_minor": 5
}
