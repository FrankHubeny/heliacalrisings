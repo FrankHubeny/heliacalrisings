{
 "cells": [
  {
   "cell_type": "markdown",
   "id": "de968a5b-4dfb-4710-8d1f-ed9e2ea64e11",
   "metadata": {},
   "source": [
    "# China"
   ]
  },
  {
   "cell_type": "code",
   "execution_count": null,
   "id": "f91aae54-717f-49d4-bdd4-8cd9453d2b08",
   "metadata": {},
   "outputs": [],
   "source": []
  }
 ],
 "metadata": {
  "kernelspec": {
   "display_name": "Python 3 (ipykernel)",
   "language": "python",
   "name": "python3"
  },
  "language_info": {
   "codemirror_mode": {
    "name": "ipython",
    "version": 3
   },
   "file_extension": ".py",
   "mimetype": "text/x-python",
   "name": "python",
   "nbconvert_exporter": "python",
   "pygments_lexer": "ipython3",
   "version": "3.12.1"
  }
 },
 "nbformat": 4,
 "nbformat_minor": 5
}
