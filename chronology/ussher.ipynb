{
 "cells": [
  {
   "cell_type": "markdown",
   "id": "e8062036-edba-482e-b66d-1d03d913f84f",
   "metadata": {},
   "source": [
    "# Ussher Style Chronologies"
   ]
  },
  {
   "cell_type": "code",
   "execution_count": null,
   "id": "77bf27c4-c205-4794-8b42-6c29723f8ce2",
   "metadata": {},
   "outputs": [],
   "source": [
    "import"
   ]
  }
 ],
 "metadata": {
  "kernelspec": {
   "display_name": "Python 3 (ipykernel)",
   "language": "python",
   "name": "python3"
  },
  "language_info": {
   "codemirror_mode": {
    "name": "ipython",
    "version": 3
   },
   "file_extension": ".py",
   "mimetype": "text/x-python",
   "name": "python",
   "nbconvert_exporter": "python",
   "pygments_lexer": "ipython3",
   "version": "3.12.1"
  }
 },
 "nbformat": 4,
 "nbformat_minor": 5
}
