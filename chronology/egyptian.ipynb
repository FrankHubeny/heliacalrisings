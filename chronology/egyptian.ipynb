{
 "cells": [
  {
   "cell_type": "markdown",
   "id": "2d41f05c-4936-4385-a7fc-22cbd1a438e0",
   "metadata": {},
   "source": [
    "# Egyptian Chronologies"
   ]
  },
  {
   "cell_type": "code",
   "execution_count": null,
   "id": "6c4871c7-7c09-49a4-b70e-5bf4bff58670",
   "metadata": {},
   "outputs": [],
   "source": []
  }
 ],
 "metadata": {
  "kernelspec": {
   "display_name": "Python 3 (ipykernel)",
   "language": "python",
   "name": "python3"
  },
  "language_info": {
   "codemirror_mode": {
    "name": "ipython",
    "version": 3
   },
   "file_extension": ".py",
   "mimetype": "text/x-python",
   "name": "python",
   "nbconvert_exporter": "python",
   "pygments_lexer": "ipython3",
   "version": "3.12.1"
  }
 },
 "nbformat": 4,
 "nbformat_minor": 5
}
